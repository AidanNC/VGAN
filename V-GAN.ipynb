{
 "cells": [
  {
   "cell_type": "markdown",
   "metadata": {
    "id": "kvRkd5hNEP8-"
   },
   "source": [
    "get data \n",
    "make architecture \n",
    "loss function  - cross entropy \n",
    "move to tensor etc \n",
    "training loop\n",
    "testing "
   ]
  },
  {
   "cell_type": "code",
   "execution_count": 1,
   "metadata": {
    "execution": {
     "iopub.execute_input": "2022-12-18T17:33:23.591928Z",
     "iopub.status.busy": "2022-12-18T17:33:23.591170Z",
     "iopub.status.idle": "2022-12-18T17:33:24.862295Z",
     "shell.execute_reply": "2022-12-18T17:33:24.861567Z",
     "shell.execute_reply.started": "2022-12-18T17:33:23.591859Z"
    },
    "executionInfo": {
     "elapsed": 278,
     "status": "ok",
     "timestamp": 1670804190045,
     "user": {
      "displayName": "Aidan Nuzum-Clark",
      "userId": "16447603376467502760"
     },
     "user_tz": 300
    },
    "id": "CRK-raNiDyXO"
   },
   "outputs": [],
   "source": [
    "import torch\n",
    "import torchvision\n",
    "from torchvision.transforms import ToTensor, Normalize, Compose\n",
    "from torchvision.datasets import MNIST\n",
    "from torch.utils.data import DataLoader\n",
    "import torch.nn as nn\n",
    "import numpy as np\n",
    "import matplotlib.pyplot as plt\n",
    "import torchvision.utils as vutils\n",
    "import matplotlib.animation as animation\n",
    "from IPython.display import HTML\n",
    "import time"
   ]
  },
  {
   "cell_type": "markdown",
   "metadata": {
    "id": "sM2L-LMQuVfB"
   },
   "source": [
    "Download the data"
   ]
  },
  {
   "cell_type": "code",
   "execution_count": 3,
   "metadata": {
    "execution": {
     "iopub.execute_input": "2022-12-18T17:33:31.600262Z",
     "iopub.status.busy": "2022-12-18T17:33:31.599940Z",
     "iopub.status.idle": "2022-12-18T17:33:31.679975Z",
     "shell.execute_reply": "2022-12-18T17:33:31.679280Z",
     "shell.execute_reply.started": "2022-12-18T17:33:31.600239Z"
    },
    "executionInfo": {
     "elapsed": 583,
     "status": "ok",
     "timestamp": 1670804192329,
     "user": {
      "displayName": "Aidan Nuzum-Clark",
      "userId": "16447603376467502760"
     },
     "user_tz": 300
    },
    "id": "xmBShGe3Dyc9"
   },
   "outputs": [],
   "source": [
    "mnist = MNIST(root='data', \n",
    "              train=True, \n",
    "              download=True,\n",
    "              transform=Compose([ToTensor(), Normalize(mean=(0.5,), std=(0.5,))]))"
   ]
  },
  {
   "cell_type": "code",
   "execution_count": 4,
   "metadata": {
    "colab": {
     "base_uri": "https://localhost:8080/",
     "height": 1000
    },
    "execution": {
     "iopub.execute_input": "2022-12-18T17:33:33.143098Z",
     "iopub.status.busy": "2022-12-18T17:33:33.142492Z",
     "iopub.status.idle": "2022-12-18T17:33:33.235261Z",
     "shell.execute_reply": "2022-12-18T17:33:33.234583Z",
     "shell.execute_reply.started": "2022-12-18T17:33:33.143072Z"
    },
    "executionInfo": {
     "elapsed": 42918,
     "status": "ok",
     "timestamp": 1670804238336,
     "user": {
      "displayName": "Aidan Nuzum-Clark",
      "userId": "16447603376467502760"
     },
     "user_tz": 300
    },
    "id": "C9mlvb9PLrOl",
    "outputId": "36c83083-57d0-4fd8-e607-995a5d41e9a5"
   },
   "outputs": [
    {
     "name": "stdout",
     "output_type": "stream",
     "text": [
      "60000\n"
     ]
    },
    {
     "data": {
      "image/png": "[encoded data removed]",
      "text/plain": [
       "<Figure size 432x288 with 1 Axes>"
      ]
     },
     "metadata": {
      "needs_background": "light"
     },
     "output_type": "display_data"
    }
   ],
   "source": [
    "img, label = mnist[0]\n",
    "plt.imshow(img[0,:,:],cmap = 'gray')\n",
    "print(len(mnist))\n",
    "\n",
    "\n",
    "# curated_mnist = []\n",
    "# for i in range(len(mnist)):\n",
    "#   if mnist[i][1] == 0 or mnist[i][1]== 1 or mnist[i][1]== 2 or mnist[i][1]== 3 or mnist[i][1]== 4 or mnist[i][1]== 5 or mnist[i][1]== 6:\n",
    "#     curated_mnist.append(mnist[i])\n",
    "\n",
    "# print(len(curated_mnist))\n",
    "# for i in range(10):\n",
    "#   img = curated_mnist[i][0]\n",
    "#   plt.imshow(img[0,:,:],cmap = 'gray')\n",
    "#   plt.show()"
   ]
  },
  {
   "cell_type": "code",
   "execution_count": 7,
   "metadata": {
    "colab": {
     "base_uri": "https://localhost:8080/"
    },
    "execution": {
     "iopub.execute_input": "2022-12-18T17:33:54.591496Z",
     "iopub.status.busy": "2022-12-18T17:33:54.590674Z",
     "iopub.status.idle": "2022-12-18T17:33:54.596116Z",
     "shell.execute_reply": "2022-12-18T17:33:54.595442Z",
     "shell.execute_reply.started": "2022-12-18T17:33:54.591470Z"
    },
    "executionInfo": {
     "elapsed": 214,
     "status": "ok",
     "timestamp": 1670804893878,
     "user": {
      "displayName": "Aidan Nuzum-Clark",
      "userId": "16447603376467502760"
     },
     "user_tz": 300
    },
    "id": "Y6A2eodsDyf3",
    "outputId": "ea449b40-a491-4ee7-a585-dc1e276e09a5"
   },
   "outputs": [
    {
     "name": "stdout",
     "output_type": "stream",
     "text": [
      "cuda\n"
     ]
    }
   ],
   "source": [
    "device = torch.device('cuda' if torch.cuda.is_available() else 'cpu')\n",
    "print(device) \n",
    "\n",
    "#Parameters\n",
    "batch_size = 128\n",
    "numofClasses = 10\n",
    "numofGenerators = 10\n",
    "image_size = 28\n",
    "image_channels = 1\n",
    "noise_size = 10\n",
    "noiseSizeperGen = 30\n",
    "use_curated = False\n",
    "\n",
    "\n",
    "lr_d = 2e-4\n",
    "lr_g = 2e-4\n",
    "beta1 = 0.5\n",
    "num_epochs = 30\n",
    "\n",
    "\n",
    "data_loader = DataLoader(mnist,batch_size,shuffle=True)\n",
    "if use_curated:\n",
    "    data_loader = DataLoader(curated_mnist,batch_size,shuffle=True)\n",
    "# mnist.data.to(device)\n",
    "# mnist.train_labels.to(device)\n",
    "# print(mnist)\n",
    "\n",
    "\n",
    "# for img_batch, label_batch in data_loader:\n",
    "#   print(label_batch)\n",
    "#   break"
   ]
  },
  {
   "cell_type": "code",
   "execution_count": 8,
   "metadata": {
    "execution": {
     "iopub.execute_input": "2022-12-18T17:33:56.723928Z",
     "iopub.status.busy": "2022-12-18T17:33:56.723286Z",
     "iopub.status.idle": "2022-12-18T17:33:56.727785Z",
     "shell.execute_reply": "2022-12-18T17:33:56.727196Z",
     "shell.execute_reply.started": "2022-12-18T17:33:56.723901Z"
    },
    "executionInfo": {
     "elapsed": 500,
     "status": "ok",
     "timestamp": 1670804312049,
     "user": {
      "displayName": "Aidan Nuzum-Clark",
      "userId": "16447603376467502760"
     },
     "user_tz": 300
    },
    "id": "TmogM7bB4LMi"
   },
   "outputs": [],
   "source": [
    "#Weight initialization\n",
    "def weights_init(m):\n",
    "    classname = m.__class__.__name__\n",
    "    if classname.find('Conv') != -1:\n",
    "        nn.init.normal_(m.weight.data, 0.0, 0.02)\n",
    "    elif classname.find('BatchNorm') != -1:\n",
    "        nn.init.normal_(m.weight.data, 1.0, 0.02)\n",
    "        nn.init.constant_(m.bias.data, 0)"
   ]
  },
  {
   "cell_type": "code",
   "execution_count": 9,
   "metadata": {
    "execution": {
     "iopub.execute_input": "2022-12-18T17:33:58.008031Z",
     "iopub.status.busy": "2022-12-18T17:33:58.007740Z",
     "iopub.status.idle": "2022-12-18T17:33:58.015132Z",
     "shell.execute_reply": "2022-12-18T17:33:58.014544Z",
     "shell.execute_reply.started": "2022-12-18T17:33:58.008009Z"
    },
    "executionInfo": {
     "elapsed": 245,
     "status": "ok",
     "timestamp": 1670804447241,
     "user": {
      "displayName": "Aidan Nuzum-Clark",
      "userId": "16447603376467502760"
     },
     "user_tz": 300
    },
    "id": "oPTmDFG9LSqy"
   },
   "outputs": [],
   "source": [
    "\n",
    "#Generator\n",
    "embed_dim = 50\n",
    "#lowered from 25\n",
    "ngf = 32\n",
    "init_size = 10\n",
    "\n",
    "class Generator(nn.Module):\n",
    "    def __init__(self):\n",
    "        super(Generator, self).__init__()\n",
    "        self.embedding = nn.Embedding(numofGenerators,embed_dim)\n",
    "        self.noise_seq = nn.Sequential(\n",
    "            nn.Linear(1, 100),\n",
    "            nn.ReLU(inplace = True)\n",
    "        )\n",
    "        self.main = nn.Sequential(\n",
    "            #state size is 2*7*7\n",
    "            nn.ConvTranspose2d( 150,ngf*8, kernel_size =4, stride = 1, padding = 0, bias=False),\n",
    "                nn.BatchNorm2d(ngf*8),\n",
    "                nn.LeakyReLU(0.3, inplace=True),\n",
    "            #state size is (ngf*8)*14*14\n",
    "            nn.ConvTranspose2d( ngf*8, ngf*4, 3, 2, 1, bias=False),\n",
    "                nn.BatchNorm2d(ngf*4),\n",
    "                nn.LeakyReLU(0.3, inplace=True),\n",
    "\n",
    "            nn.ConvTranspose2d( ngf*4, ngf*2, 4, 2, 1, bias=False),\n",
    "                nn.BatchNorm2d(ngf*2),\n",
    "                nn.LeakyReLU(0.3, inplace=True),\n",
    "\n",
    "            nn.ConvTranspose2d( ngf*2, 1, 4, 2, 1, bias=False),\n",
    "                # nn.BatchNorm2d(ngf),\n",
    "                # nn.LeakyReLU(0.3, inplace=True),\n",
    "            #state size is (ngf*4)*28*28\n",
    "            # nn.ConvTranspose2d(ngf*4, 1, 5, 1, 2, bias=False),\n",
    "\n",
    "            # nn.BatchNorm2d(32),\n",
    "            # nn.LeakyReLU(0.3,inplace=True),\n",
    "            # nn.ConvTranspose2d(32, 1, 5, 1, 0, bias=False),\n",
    "                nn.Tanh()\n",
    "            #state size is 1*28*28\n",
    "        )\n",
    "\n",
    "    def forward(self,noise,label):\n",
    "        embed = self.embedding(label)\n",
    "        embed = torch.reshape(embed,(-1,50,1,1))\n",
    "        # print(\"Embed shape: \", embed.shape)\n",
    "\n",
    "\n",
    "        # noise = self.noise_seq(noise)\n",
    "        # print(\"Noise shape: \", noise.shape)\n",
    "        # noise = torch.reshape(noise,(-1,1,init_size,init_size))\n",
    "        # print(noise.shape)\n",
    "        embed = torch.cat((embed,noise),dim = 1)\n",
    "        # print(\"Concat shape: \", embed.shape)\n",
    "        x = self.main(embed)\n",
    "        #x = self.network(noise)\n",
    "        return x"
   ]
  },
  {
   "cell_type": "code",
   "execution_count": 10,
   "metadata": {
    "execution": {
     "iopub.execute_input": "2022-12-18T17:34:00.485888Z",
     "iopub.status.busy": "2022-12-18T17:34:00.485623Z",
     "iopub.status.idle": "2022-12-18T17:34:00.493053Z",
     "shell.execute_reply": "2022-12-18T17:34:00.492345Z",
     "shell.execute_reply.started": "2022-12-18T17:34:00.485868Z"
    },
    "executionInfo": {
     "elapsed": 293,
     "status": "ok",
     "timestamp": 1670804317741,
     "user": {
      "displayName": "Aidan Nuzum-Clark",
      "userId": "16447603376467502760"
     },
     "user_tz": 300
    },
    "id": "NkDJyG0rDyoO"
   },
   "outputs": [],
   "source": [
    "# #Discriminator\n",
    "# class Discriminator(nn.Module):\n",
    "#   def __init__(self,n_Gen=numofGenerators):\n",
    "#     super(Discriminator, self).__init__()\n",
    "#     nc = 1\n",
    "#     ndf = 16\n",
    "#     self.main = nn.Sequential(\n",
    "#             # input is 1 x 28 x 28\n",
    "#             # nn.Conv2d(in_channels=nc, out_channels=64, kernel_size=4, stride=2, padding=1, bias=False),\n",
    "#             nn.Conv2d(in_channels=nc, out_channels=ndf*4, kernel_size=4, stride=2, padding=1, bias=False),\n",
    "#             nn.LeakyReLU(0.3, inplace=True),\n",
    "#             # nn.Dropout(0.3),\n",
    "#             # state size. 64 x 14 x 14\n",
    "#             # nn.Conv2d(64, 64 * 2, 4, 2, 1, bias=False),\n",
    "#             nn.Conv2d(ndf*4, ndf*8, 4, 2, 1, bias=False),\n",
    "#             nn.BatchNorm2d(ndf*8),\n",
    "#             nn.LeakyReLU(0.3, inplace=True),\n",
    "        \n",
    "#             nn.Conv2d(ndf*8, ndf*8, 4, 2, 1, bias=False),\n",
    "#             nn.BatchNorm2d(ndf*8),\n",
    "#             nn.LeakyReLU(0.3, inplace=True),\n",
    "#             # nn.Dropout(0.3)\n",
    "#             # state size. 128 x 7 x 7    \n",
    "#         )\n",
    "#     #reshaping output to size equal to the number of generators + 1 (the true distribution)\n",
    "#     self.out = nn.Linear(ndf*8*3*3,n_Gen+1)\n",
    "#     # self.softmax = torch.nn.Softmax(dim = 1)\n",
    "\n",
    "#   def forward(self,input):\n",
    "#     #2 conv2d, leakyrelu\n",
    "#     x = self.main(input)\n",
    "#     m = nn.Flatten()\n",
    "#     x = m(x)\n",
    "#     x = self.out(x)\n",
    "#     # x = self.softmax(x)\n",
    "#     return x\n",
    "\n",
    "#Discriminator\n",
    "disc_embed_dim = 50\n",
    "class Discriminator(nn.Module):\n",
    "    def __init__(self,n_Gen=numofGenerators):\n",
    "        super(Discriminator, self).__init__()\n",
    "        nc = 2\n",
    "        ndf = 16\n",
    "        self.embedding = nn.Embedding(numofGenerators,disc_embed_dim)\n",
    "        self.embed_linear = nn.Linear(50,28*28)\n",
    "        self.main = nn.Sequential(\n",
    "                # input is 1 x 28 x 28\n",
    "                # nn.Conv2d(in_channels=nc, out_channels=64, kernel_size=4, stride=2, padding=1, bias=False),\n",
    "                nn.Conv2d(in_channels=nc, out_channels=ndf*4, kernel_size=4, stride=2, padding=1, bias=False),\n",
    "                nn.LeakyReLU(0.3, inplace=True),\n",
    "                # nn.Dropout(0.3),\n",
    "                # state size. 64 x 14 x 14\n",
    "                # nn.Conv2d(64, 64 * 2, 4, 2, 1, bias=False),\n",
    "                nn.Conv2d(ndf*4, ndf*8, 4, 2, 1, bias=False),\n",
    "                nn.BatchNorm2d(ndf*8),\n",
    "                nn.LeakyReLU(0.3, inplace=True),\n",
    "\n",
    "                nn.Conv2d(ndf*8, ndf*8, 4, 2, 1, bias=False),\n",
    "                nn.BatchNorm2d(ndf*8),\n",
    "                nn.LeakyReLU(0.3, inplace=True),\n",
    "                # nn.Dropout(0.3)\n",
    "                # state size. 128 x 7 x 7    \n",
    "            )\n",
    "        #reshaping output to size equal to the number of generators + 1 (the true distribution)\n",
    "        self.out = nn.Linear(ndf*8*3*3,2) #only two categories now \n",
    "    # self.softmax = torch.nn.Softmax(dim = 1)\n",
    "\n",
    "    def forward(self,input,label):\n",
    "        embed = self.embedding(label)\n",
    "        embed = self.embed_linear(embed)\n",
    "        embed = torch.reshape(embed,(-1,1,28,28))\n",
    "        x = torch.cat((embed,input),dim = 1)\n",
    "\n",
    "        x = self.main(x)\n",
    "\n",
    "        m = nn.Flatten()\n",
    "        x = m(x)\n",
    "        x = self.out(x)\n",
    "        # x = self.softmax(x)\n",
    "        return x\n",
    "    \n",
    "    "
   ]
  },
  {
   "cell_type": "code",
   "execution_count": 11,
   "metadata": {
    "colab": {
     "base_uri": "https://localhost:8080/"
    },
    "execution": {
     "iopub.execute_input": "2022-12-18T17:34:02.931810Z",
     "iopub.status.busy": "2022-12-18T17:34:02.931318Z",
     "iopub.status.idle": "2022-12-18T17:34:04.377691Z",
     "shell.execute_reply": "2022-12-18T17:34:04.377041Z",
     "shell.execute_reply.started": "2022-12-18T17:34:02.931770Z"
    },
    "executionInfo": {
     "elapsed": 580,
     "status": "ok",
     "timestamp": 1670804898916,
     "user": {
      "displayName": "Aidan Nuzum-Clark",
      "userId": "16447603376467502760"
     },
     "user_tz": 300
    },
    "id": "-PmUlmH7SfBC",
    "outputId": "142b9f47-8cda-42a7-e013-869d619e469d"
   },
   "outputs": [
    {
     "name": "stdout",
     "output_type": "stream",
     "text": [
      "Generator(\n",
      "  (embedding): Embedding(10, 50)\n",
      "  (noise_seq): Sequential(\n",
      "    (0): Linear(in_features=1, out_features=100, bias=True)\n",
      "    (1): ReLU(inplace=True)\n",
      "  )\n",
      "  (main): Sequential(\n",
      "    (0): ConvTranspose2d(150, 256, kernel_size=(4, 4), stride=(1, 1), bias=False)\n",
      "    (1): BatchNorm2d(256, eps=1e-05, momentum=0.1, affine=True, track_running_stats=True)\n",
      "    (2): LeakyReLU(negative_slope=0.3, inplace=True)\n",
      "    (3): ConvTranspose2d(256, 128, kernel_size=(3, 3), stride=(2, 2), padding=(1, 1), bias=False)\n",
      "    (4): BatchNorm2d(128, eps=1e-05, momentum=0.1, affine=True, track_running_stats=True)\n",
      "    (5): LeakyReLU(negative_slope=0.3, inplace=True)\n",
      "    (6): ConvTranspose2d(128, 64, kernel_size=(4, 4), stride=(2, 2), padding=(1, 1), bias=False)\n",
      "    (7): BatchNorm2d(64, eps=1e-05, momentum=0.1, affine=True, track_running_stats=True)\n",
      "    (8): LeakyReLU(negative_slope=0.3, inplace=True)\n",
      "    (9): ConvTranspose2d(64, 1, kernel_size=(4, 4), stride=(2, 2), padding=(1, 1), bias=False)\n",
      "    (10): Tanh()\n",
      "  )\n",
      ")\n",
      "noise shape:  torch.Size([2, 100, 1, 1])\n",
      "torch.Size([2, 1, 28, 28])\n",
      "torch.Size([2, 2])\n"
     ]
    },
    {
     "data": {
      "text/plain": [
       "Discriminator(\n",
       "  (embedding): Embedding(10, 50)\n",
       "  (embed_linear): Linear(in_features=50, out_features=784, bias=True)\n",
       "  (main): Sequential(\n",
       "    (0): Conv2d(2, 64, kernel_size=(4, 4), stride=(2, 2), padding=(1, 1), bias=False)\n",
       "    (1): LeakyReLU(negative_slope=0.3, inplace=True)\n",
       "    (2): Conv2d(64, 128, kernel_size=(4, 4), stride=(2, 2), padding=(1, 1), bias=False)\n",
       "    (3): BatchNorm2d(128, eps=1e-05, momentum=0.1, affine=True, track_running_stats=True)\n",
       "    (4): LeakyReLU(negative_slope=0.3, inplace=True)\n",
       "    (5): Conv2d(128, 128, kernel_size=(4, 4), stride=(2, 2), padding=(1, 1), bias=False)\n",
       "    (6): BatchNorm2d(128, eps=1e-05, momentum=0.1, affine=True, track_running_stats=True)\n",
       "    (7): LeakyReLU(negative_slope=0.3, inplace=True)\n",
       "  )\n",
       "  (out): Linear(in_features=1152, out_features=2, bias=True)\n",
       ")"
      ]
     },
     "execution_count": 11,
     "metadata": {},
     "output_type": "execute_result"
    }
   ],
   "source": [
    "#Instantiate models,initialize weights and move to gpu\n",
    "Gnet = Generator()\n",
    "Gnet.apply(weights_init)\n",
    "print(Gnet)\n",
    "\n",
    "# noise = torch.zeros((2,1,noise_size,noise_size))\n",
    "noise = torch.zeros((2,100,1,1))\n",
    "print(\"noise shape: \", noise.shape)\n",
    "labels = torch.LongTensor([0,0])\n",
    "a = Gnet(noise,labels)\n",
    "print(a.shape)\n",
    "\n",
    "Dnet = Discriminator()\n",
    "Dnet.apply(weights_init)\n",
    "# print(Dnet)\n",
    "b = Dnet(a,labels)\n",
    "print(b.shape)\n",
    "\n",
    "Gnet.to(device)\n",
    "Dnet.to(device)"
   ]
  },
  {
   "cell_type": "code",
   "execution_count": 12,
   "metadata": {
    "execution": {
     "iopub.execute_input": "2022-12-18T17:34:30.535891Z",
     "iopub.status.busy": "2022-12-18T17:34:30.535320Z",
     "iopub.status.idle": "2022-12-18T17:34:30.539702Z",
     "shell.execute_reply": "2022-12-18T17:34:30.539060Z",
     "shell.execute_reply.started": "2022-12-18T17:34:30.535868Z"
    },
    "executionInfo": {
     "elapsed": 588,
     "status": "ok",
     "timestamp": 1670804902279,
     "user": {
      "displayName": "Aidan Nuzum-Clark",
      "userId": "16447603376467502760"
     },
     "user_tz": 300
    },
    "id": "odGQ2A9XDyrj"
   },
   "outputs": [],
   "source": [
    "#Loss function and optimizer\n",
    "optimizer_g = torch.optim.Adam(Gnet.parameters(), lr = lr_g, betas =(beta1,0.999))\n",
    "optimizer_d  = torch.optim.Adam(Dnet.parameters(), lr = lr_d, betas =(beta1,0.999))"
   ]
  },
  {
   "cell_type": "code",
   "execution_count": 13,
   "metadata": {
    "execution": {
     "iopub.execute_input": "2022-12-18T17:34:31.705000Z",
     "iopub.status.busy": "2022-12-18T17:34:31.704224Z",
     "iopub.status.idle": "2022-12-18T17:34:31.709047Z",
     "shell.execute_reply": "2022-12-18T17:34:31.708409Z",
     "shell.execute_reply.started": "2022-12-18T17:34:31.704975Z"
    }
   },
   "outputs": [
    {
     "name": "stdout",
     "output_type": "stream",
     "text": [
      "Generator params:  1043004\n",
      "Discriminator params:  438566\n"
     ]
    }
   ],
   "source": [
    "def count_parameters(model):\n",
    "    return sum(p.numel() for p in model.parameters() if p.requires_grad)\n",
    "\n",
    "print(\"Generator params: \", count_parameters(Gnet))\n",
    "print(\"Discriminator params: \", count_parameters(Dnet))"
   ]
  },
  {
   "cell_type": "code",
   "execution_count": 14,
   "metadata": {
    "colab": {
     "base_uri": "https://localhost:8080/",
     "height": 1000
    },
    "execution": {
     "iopub.execute_input": "2022-12-18T17:34:33.150798Z",
     "iopub.status.busy": "2022-12-18T17:34:33.150246Z",
     "iopub.status.idle": "2022-12-18T17:41:49.991624Z",
     "shell.execute_reply": "2022-12-18T17:41:49.990995Z",
     "shell.execute_reply.started": "2022-12-18T17:34:33.150775Z"
    },
    "executionInfo": {
     "elapsed": 718143,
     "status": "error",
     "timestamp": 1670805623982,
     "user": {
      "displayName": "Aidan Nuzum-Clark",
      "userId": "16447603376467502760"
     },
     "user_tz": 300
    },
    "id": "DD5bKgrADyuZ",
    "outputId": "db5a1217-c16c-4a36-88c1-cda01c0f5f05"
   },
   "outputs": [
    {
     "name": "stdout",
     "output_type": "stream",
     "text": [
      "Starting training loop.......\n",
      "Epoch:  1\n",
      "loss_d_total 0.9354568188632729 loss_d_fake 0.7177213819296375 loss_d_real 0.21773524172524653 loss_g_total 1.0126821033990205\n",
      "Generator accuracies:  0.49999999720404653\n",
      "Correct generator accuracies:  0.49999999771240167\n",
      "Real Data Accuracy:  0.8114472525968734\n",
      "Norm of Gradient for G 0.5447966735373174 Norm of Gradient for D 0.0867331128543628\n",
      "Time is 17.1539306640625\n",
      "Epoch:  2\n",
      "loss_d_total 1.0581332534106809 loss_d_fake 0.7731446223472481 loss_d_real 0.28498833825084957 loss_g_total 0.8791516269447961\n",
      "Generator accuracies:  0.4999999979030349\n",
      "Correct generator accuracies:  0.4999999977759461\n",
      "Real Data Accuracy:  0.7607091874964456\n",
      "Norm of Gradient for G 0.3955141451440132 Norm of Gradient for D 0.10537097138811403\n",
      "Time is 14.607498168945312\n",
      "Epoch:  3\n",
      "loss_d_total 1.181350545334155 loss_d_fake 0.8237196021496869 loss_d_real 0.3576312359970516 loss_g_total 0.7629391928471482\n",
      "Generator accuracies:  0.4999999976488573\n",
      "Correct generator accuracies:  0.4999999969498689\n",
      "Real Data Accuracy:  0.7127639690060605\n",
      "Norm of Gradient for G 0.3832815677435922 Norm of Gradient for D 0.09346845928333335\n",
      "Time is 14.391149520874023\n",
      "Epoch:  4\n",
      "loss_d_total 1.2220440764925373 loss_d_fake 0.8349908043834955 loss_d_real 0.387053076900653 loss_g_total 0.7092266936800373\n",
      "Generator accuracies:  0.4999999976488573\n",
      "Correct generator accuracies:  0.4999999974582241\n",
      "Real Data Accuracy:  0.6953857970644416\n",
      "Norm of Gradient for G 0.3082338568688964 Norm of Gradient for D 0.08408717828185193\n",
      "Time is 14.383601188659668\n",
      "Epoch:  5\n",
      "loss_d_total 1.2378819837753199 loss_d_fake 0.8352117802796841 loss_d_real 0.40267007335670973 loss_g_total 0.684869892307436\n",
      "Generator accuracies:  0.4999999968863245\n",
      "Correct generator accuracies:  0.49999999771240167\n",
      "Real Data Accuracy:  0.6871914371117346\n",
      "Norm of Gradient for G 0.2659970403734301 Norm of Gradient for D 0.07424747304065522\n",
      "Time is 14.416020631790161\n",
      "Epoch:  6\n",
      "loss_d_total 1.2346122432619269 loss_d_fake 0.830660691901819 loss_d_real 0.40395171403376534 loss_g_total 0.6818744846498535\n",
      "Generator accuracies:  0.4999999974582241\n",
      "Correct generator accuracies:  0.49999999720404653\n",
      "Real Data Accuracy:  0.6890816335230748\n",
      "Norm of Gradient for G 0.267350691563285 Norm of Gradient for D 0.06883805847244222\n",
      "Time is 14.600759267807007\n",
      "Epoch:  7\n",
      "loss_d_total 1.2170640502148853 loss_d_fake 0.8228243114089152 loss_d_real 0.3942391206460721 loss_g_total 0.6900715451759062\n",
      "Generator accuracies:  0.4999999980301237\n",
      "Correct generator accuracies:  0.4999999977759461\n",
      "Real Data Accuracy:  0.6958006177502655\n",
      "Norm of Gradient for G 0.29174238182842605 Norm of Gradient for D 0.0656604055783896\n",
      "Time is 14.422935962677002\n",
      "Epoch:  8\n",
      "loss_d_total 1.2109973639059168 loss_d_fake 0.8151135149795109 loss_d_real 0.39588349104435966 loss_g_total 0.6912117573752332\n",
      "Generator accuracies:  0.4999999980936681\n",
      "Correct generator accuracies:  0.49999999771240167\n",
      "Real Data Accuracy:  0.6975215929530577\n",
      "Norm of Gradient for G 0.3215153082283829 Norm of Gradient for D 0.06329179147302087\n",
      "Time is 14.426128149032593\n",
      "Epoch:  9\n",
      "loss_d_total 1.1934299102978412 loss_d_fake 0.8063901726370936 loss_d_real 0.38703908696611805 loss_g_total 0.6955646441689433\n",
      "Generator accuracies:  0.4999999977759461\n",
      "Correct generator accuracies:  0.4999999974582241\n",
      "Real Data Accuracy:  0.7027541034892678\n",
      "Norm of Gradient for G 0.3608899482531842 Norm of Gradient for D 0.06324890201915302\n",
      "Time is 14.42326307296753\n",
      "Epoch:  10\n",
      "loss_d_total 1.1930359797691232 loss_d_fake 0.8058715690173575 loss_d_real 0.38716424807810834 loss_g_total 0.6946401372393057\n",
      "Generator accuracies:  0.4999999978394905\n",
      "Correct generator accuracies:  0.4999999980301237\n",
      "Real Data Accuracy:  0.7033306013292341\n",
      "Norm of Gradient for G 0.4009060320823686 Norm of Gradient for D 0.06577981084680506\n",
      "Time is 14.31599235534668\n",
      "Epoch:  11\n",
      "loss_d_total 1.1891708536697094 loss_d_fake 0.798726876915645 loss_d_real 0.3904439767540645 loss_g_total 0.6962407809584888\n",
      "Generator accuracies:  0.4999999973946797\n",
      "Correct generator accuracies:  0.4999999976488573\n",
      "Real Data Accuracy:  0.7060967756232728\n",
      "Norm of Gradient for G 0.4122864774295262 Norm of Gradient for D 0.06738941882576134\n",
      "Time is 14.442037343978882\n",
      "Epoch:  12\n",
      "loss_d_total 1.1827591690681636 loss_d_fake 0.7938173859358342 loss_d_real 0.388942433826959 loss_g_total 0.6893363253139992\n",
      "Generator accuracies:  0.4999999977759461\n",
      "Correct generator accuracies:  0.4999999972675909\n",
      "Real Data Accuracy:  0.7068052948919187\n",
      "Norm of Gradient for G 0.4035637270031707 Norm of Gradient for D 0.06464740378595492\n",
      "Time is 14.488638162612915\n",
      "Epoch:  13\n",
      "loss_d_total 1.1735651142307435 loss_d_fake 0.7860488728927905 loss_d_real 0.3875155906433236 loss_g_total 0.692577044846915\n",
      "Generator accuracies:  0.4999999968227801\n",
      "Correct generator accuracies:  0.4999999980301237\n",
      "Real Data Accuracy:  0.7105805037626579\n",
      "Norm of Gradient for G 0.4049259613571899 Norm of Gradient for D 0.06645601900862351\n",
      "Time is 14.282695055007935\n",
      "Epoch:  14\n",
      "loss_d_total 1.1726106753481476 loss_d_fake 0.7849896721748401 loss_d_real 0.38762064529126133 loss_g_total 0.6852450177613606\n",
      "Generator accuracies:  0.4999999974582241\n",
      "Correct generator accuracies:  0.4999999978394905\n",
      "Real Data Accuracy:  0.708977319983277\n",
      "Norm of Gradient for G 0.3785467627587349 Norm of Gradient for D 0.0639688943677556\n",
      "Time is 14.430274963378906\n",
      "Epoch:  15\n",
      "loss_d_total 1.1556436827442031 loss_d_fake 0.7758873002107209 loss_d_real 0.37975703322811166 loss_g_total 0.6925317565006996\n",
      "Generator accuracies:  0.49999999828430125\n",
      "Correct generator accuracies:  0.4999999975853129\n",
      "Real Data Accuracy:  0.7151510392043636\n",
      "Norm of Gradient for G 0.3600900347298905 Norm of Gradient for D 0.06588160066303414\n",
      "Time is 14.473711252212524\n",
      "Epoch:  16\n",
      "loss_d_total 1.144389919126466 loss_d_fake 0.7710674098813965 loss_d_real 0.37332130546000464 loss_g_total 0.6903925979061167\n",
      "Generator accuracies:  0.4999999980936681\n",
      "Correct generator accuracies:  0.4999999979030349\n",
      "Real Data Accuracy:  0.7185937786407308\n",
      "Norm of Gradient for G 0.33032732051826996 Norm of Gradient for D 0.06365671420871004\n",
      "Time is 14.448576927185059\n",
      "Epoch:  17\n",
      "loss_d_total 1.1194297936933635 loss_d_fake 0.7565308267882129 loss_d_real 0.3628984788841784 loss_g_total 0.7007549749508596\n",
      "Generator accuracies:  0.49999999860202327\n",
      "Correct generator accuracies:  0.4999999980301237\n",
      "Real Data Accuracy:  0.726295749198145\n",
      "Norm of Gradient for G 0.30417185478500214 Norm of Gradient for D 0.0659745500675206\n",
      "Time is 14.339678049087524\n",
      "Epoch:  18\n",
      "loss_d_total 1.1023455459171776 loss_d_fake 0.7478317553554771 loss_d_real 0.3545142460479411 loss_g_total 0.7042406810117937\n",
      "Generator accuracies:  0.49999999771240167\n",
      "Correct generator accuracies:  0.49999999669569134\n",
      "Real Data Accuracy:  0.7314984380944706\n",
      "Norm of Gradient for G 0.2629122719454613 Norm of Gradient for D 0.06854438601431054\n",
      "Time is 14.369834899902344\n",
      "Epoch:  19\n",
      "loss_d_total 1.0706474775952826 loss_d_fake 0.7311972677072228 loss_d_real 0.3394504701659115 loss_g_total 0.7178503496052105\n",
      "Generator accuracies:  0.4999999973946797\n",
      "Correct generator accuracies:  0.4999999976488573\n",
      "Real Data Accuracy:  0.7424581592906513\n",
      "Norm of Gradient for G 0.22675791497169528 Norm of Gradient for D 0.07172872386634477\n",
      "Time is 14.379424333572388\n",
      "Epoch:  20\n",
      "loss_d_total 1.054361371851679 loss_d_fake 0.7257019563524454 loss_d_real 0.32865902508245604 loss_g_total 0.7224738602953424\n",
      "Generator accuracies:  0.4999999970769577\n",
      "Correct generator accuracies:  0.49999999828430125\n",
      "Real Data Accuracy:  0.74862455247816\n",
      "Norm of Gradient for G 0.18965980721943415 Norm of Gradient for D 0.07421685797748154\n",
      "Time is 14.602600574493408\n",
      "Epoch:  21\n",
      "loss_d_total 1.0265966874958357 loss_d_fake 0.7103969029017857 loss_d_real 0.316199589385661 loss_g_total 0.7359405062091884\n",
      "Generator accuracies:  0.4999999980301237\n",
      "Correct generator accuracies:  0.4999999979030349\n",
      "Real Data Accuracy:  0.7579521924447912\n",
      "Norm of Gradient for G 0.15620656305157554 Norm of Gradient for D 0.076447507400296\n",
      "Time is 14.533695936203003\n",
      "Epoch:  22\n",
      "loss_d_total 0.997707147333922 loss_d_fake 0.6955307429787446 loss_d_real 0.3021764694246402 loss_g_total 0.7521437785264525\n",
      "Generator accuracies:  0.4999999980936681\n",
      "Correct generator accuracies:  0.49999999828430125\n",
      "Real Data Accuracy:  0.7685981626703795\n",
      "Norm of Gradient for G 0.13276257049808624 Norm of Gradient for D 0.0834392701138629\n",
      "Time is 14.446025848388672\n",
      "Epoch:  23\n",
      "loss_d_total 0.9642099734308369 loss_d_fake 0.6801895109066831 loss_d_real 0.28401971422532984 loss_g_total 0.7704040267065898\n",
      "Generator accuracies:  0.49999999771240167\n",
      "Correct generator accuracies:  0.49999999771240167\n",
      "Real Data Accuracy:  0.7813655960280249\n",
      "Norm of Gradient for G 0.11161173111213042 Norm of Gradient for D 0.09394084035889554\n",
      "Time is 14.382453680038452\n",
      "Epoch:  24\n",
      "loss_d_total 0.932173218554271 loss_d_fake 0.6656860481701425 loss_d_real 0.26648775600929503 loss_g_total 0.7870959056211687\n",
      "Generator accuracies:  0.4999999977759461\n",
      "Correct generator accuracies:  0.4999999969498689\n",
      "Real Data Accuracy:  0.7927130278366715\n",
      "Norm of Gradient for G 0.09325887773559292 Norm of Gradient for D 0.09999070873360898\n",
      "Time is 14.454930067062378\n",
      "Epoch:  25\n",
      "loss_d_total 0.8962814884145123 loss_d_fake 0.6486949798649054 loss_d_real 0.24758611813282916 loss_g_total 0.8073333545025986\n",
      "Generator accuracies:  0.4999999979030349\n",
      "Correct generator accuracies:  0.49999999828430125\n",
      "Real Data Accuracy:  0.8065472441568557\n",
      "Norm of Gradient for G 0.07917463943870591 Norm of Gradient for D 0.10386759819967278\n",
      "Time is 14.587305784225464\n",
      "Epoch:  26\n",
      "loss_d_total 0.885582702246302 loss_d_fake 0.6417149785739272 loss_d_real 0.24386747966188865 loss_g_total 0.8135727351662446\n",
      "Generator accuracies:  0.4999999979030349\n",
      "Correct generator accuracies:  0.49999999771240167\n",
      "Real Data Accuracy:  0.8107714034092706\n",
      "Norm of Gradient for G 0.06971419110163443 Norm of Gradient for D 0.10742611530572493\n",
      "Time is 14.489511013031006\n",
      "Epoch:  27\n",
      "loss_d_total 0.897508177930104 loss_d_fake 0.6484238354127798 loss_d_real 0.2490842611804954 loss_g_total 0.811753653259928\n",
      "Generator accuracies:  0.4999999976488573\n",
      "Correct generator accuracies:  0.4999999968227801\n",
      "Real Data Accuracy:  0.8069004927362714\n",
      "Norm of Gradient for G 0.06456782649765645 Norm of Gradient for D 0.11848597306368956\n",
      "Time is 14.633158922195435\n",
      "Epoch:  28\n",
      "loss_d_total 0.8485819281799707 loss_d_fake 0.6257784910547708 loss_d_real 0.22280337205573694 loss_g_total 0.8387541618428505\n",
      "Generator accuracies:  0.49999999714050214\n",
      "Correct generator accuracies:  0.4999999973311353\n",
      "Real Data Accuracy:  0.8261359042958665\n",
      "Norm of Gradient for G 0.055859708312604985 Norm of Gradient for D 0.1209745760133335\n",
      "Time is 14.729045629501343\n",
      "Epoch:  29\n",
      "loss_d_total 0.8050544267015924 loss_d_fake 0.6051575227586954 loss_d_real 0.1998971479533832 loss_g_total 0.8659466253414846\n",
      "Generator accuracies:  0.49999999771240167\n",
      "Correct generator accuracies:  0.4999999970769577\n",
      "Real Data Accuracy:  0.8419310946835638\n",
      "Norm of Gradient for G 0.05260940112554824 Norm of Gradient for D 0.12992959393303533\n",
      "Time is 14.670644998550415\n",
      "Epoch:  30\n",
      "loss_d_total 0.8029500152002266 loss_d_fake 0.6034120994844416 loss_d_real 0.1995382085283682 loss_g_total 0.8734246032324426\n",
      "Generator accuracies:  0.4999999973946797\n",
      "Correct generator accuracies:  0.4999999973311353\n",
      "Real Data Accuracy:  0.843494155450162\n",
      "Norm of Gradient for G 0.052323940104798974 Norm of Gradient for D 0.13743511715661616\n",
      "Time is 14.495183229446411\n"
     ]
    }
   ],
   "source": [
    "\n",
    "\n",
    "log_soft_loss = nn.LogSoftmax(dim=1)\n",
    "softmax_fx = torch.nn.Softmax(dim=1)\n",
    "nll_fx = torch.nn.NLLLoss()\n",
    "\n",
    "#Training loop\n",
    "\n",
    "#Generator loss : -log(d(g(z)))\n",
    "G_losses = []\n",
    "#Discriminator loss: loss_d_fake + loss_d_real\n",
    "D_losses = []\n",
    "D_fake_losses = []\n",
    "D_real_losses = []\n",
    "#Probability of being real assigned to the real data\n",
    "Real_data_realprob = []\n",
    "#Probability of being real assigned to the fake data, from each generator\n",
    "Generated_data_realprob = []\n",
    "#Probability of being identified correctly from input, per generator\n",
    "Correct_gen_prob = []\n",
    "\n",
    "\n",
    "#to help visualize progression\n",
    "img_list = []\n",
    "#define a fixed noise\n",
    "fixed_noise = torch.randn(10*numofGenerators, 100, 1, 1, device=device)\n",
    "# fixed_labels = torch.full((100,),0,device = device)\n",
    "fixed_labels = torch.full((10,),0,device = device)\n",
    "for i in range(1,numofGenerators):\n",
    "    fixed_labels = torch.cat((fixed_labels,torch.full((10,),i,device = device)))\n",
    "\n",
    "print(\"Starting training loop.......\")\n",
    "\n",
    "Noise_labels = torch.full((noiseSizeperGen,),0,device = device)\n",
    "for i in range(1,numofGenerators):\n",
    "    Noise_labels = torch.cat((Noise_labels,torch.full((noiseSizeperGen,),i,device = device)))\n",
    "\n",
    "disc_noise_labels = torch.full((noiseSizeperGen*numofGenerators,),0,device = device)\n",
    "\n",
    "for epoch in range(num_epochs): \n",
    "    if num_epochs == 100:\n",
    "        optimizer_g.param_groups[0]['lr'] = 2e-5\n",
    "        optimizer_d.param_groups[0]['lr'] = 2e-5\n",
    "    start = time.time()\n",
    "    print(\"Epoch: \", epoch+1)\n",
    "\n",
    "  #  gen_accuracies = []\n",
    "  #  real_accuracy = 0\n",
    "\n",
    "    loss_g_epoch = 0\n",
    "    loss_d_epoch = 0\n",
    "    loss_d_fake_epoch = 0\n",
    "    loss_d_real_epoch = 0\n",
    "    real_prob_epoch = 0\n",
    "    grad_d = 0\n",
    "    grad_g = 0\n",
    "    \n",
    "    \n",
    "    gen_prob_epoch = 0\n",
    "    correct_gen_prob_epoch = 0\n",
    "\n",
    "    batchCounter = 0\n",
    "    for i, data in enumerate(data_loader, 0):\n",
    "        batchCounter+=1\n",
    "\n",
    "        gen_accuracies = 0\n",
    "        correct_gen_accuracies = 0\n",
    "        real_accuracy = 0\n",
    "\n",
    "\n",
    "        optimizer_d.zero_grad()\n",
    "\n",
    "\n",
    "        #Generate noise\n",
    "        NoiseShape =(noiseSizeperGen*numofGenerators,100,1,1)\n",
    "        Noise = torch.randn(NoiseShape,device= device)\n",
    "        \n",
    "        gen_out =  Gnet(Noise,Noise_labels)  \n",
    "        soft_out = softmax_fx(Dnet(gen_out,Noise_labels))\n",
    "        \n",
    "        gen_loss = nll_fx(torch.log(soft_out),disc_noise_labels)\n",
    "\n",
    "        #For each generator\n",
    "        loss_d_fake = 0\n",
    "        \n",
    "\n",
    "        gen_accuracies+=(torch.mean(soft_out[1]).item())\n",
    "        correct_gen_accuracies+=(torch.mean(soft_out[0]).item())\n",
    "#         for g in range(numofGenerators):\n",
    "\n",
    "#             gen_accuracies.append(torch.mean(soft_out[g*noiseSizeperGen:(g+1)*noiseSizeperGen,-1]).item())\n",
    "#             correct_gen_accuracies.append(torch.mean(soft_out[g*noiseSizeperGen:(g+1)*noiseSizeperGen,g]).item())\n",
    "\n",
    "\n",
    "        loss_d_fake  = gen_loss\n",
    "        gen_prob_epoch += gen_accuracies\n",
    "        correct_gen_prob_epoch += correct_gen_accuracies\n",
    "\n",
    "        #Get real data\n",
    "        train_x, y = data\n",
    "        train_x = train_x.to(device)\n",
    "        train_y = y.to(device)\n",
    "        \n",
    "        disc_real_labels = torch.full(y.shape,1,device = device)\n",
    "\n",
    "        #Get loss with respect to real \n",
    "        #  loss_d_real = loss_function(Dnet(train_x),real_labels)\n",
    "        ### replacing this ###\n",
    "        # soft_out = softmax_fx(Dnet(train_x))\n",
    "        # real_accuracy = torch.mean(soft_out[:,-1]).item()\n",
    "        # loss_d_real = nll_fx(torch.log(soft_out),real_labels)\n",
    "        ### replacing this ###\n",
    "        soft_out = softmax_fx(Dnet(train_x, train_y))\n",
    "        real_accuracy = torch.mean(soft_out[:,-1]).item()\n",
    "        \n",
    "        loss_d_real = nll_fx(torch.log(soft_out),disc_real_labels)\n",
    "        \n",
    "        \n",
    "        loss_d_total = (loss_d_fake + loss_d_real)\n",
    "        loss_d_total.backward()\n",
    "\n",
    "        grad_d+= torch.linalg.norm(Dnet.main[3].weight.grad.detach()).item()\n",
    "        optimizer_d.step()\n",
    "\n",
    "\n",
    "        #  Update G network : \n",
    "        optimizer_g.zero_grad()\n",
    "        loss_g_total = 0\n",
    "\n",
    "        disc_out = Dnet(Gnet(Noise,Noise_labels),Noise_labels) #make sure to pass the noise labels to the discrimnator too\n",
    "        loss_g = log_soft_loss(disc_out)\n",
    "        loss_g = -1*torch.mean(loss_g[:,-1])\n",
    "        loss_g_total = loss_g\n",
    "        loss_g_total.backward()\n",
    "        grad_g+= torch.linalg.norm(Gnet.main[6].weight.grad.detach()).item()\n",
    "        optimizer_d.step()\n",
    "        optimizer_g.step()\n",
    "\n",
    "        loss_d_epoch += loss_d_total\n",
    "        loss_d_fake_epoch += loss_d_fake\n",
    "        loss_d_real_epoch += loss_d_real\n",
    "        loss_g_epoch += loss_g_total\n",
    "        real_prob_epoch += real_accuracy\n",
    "\n",
    "    G_losses.append(loss_g_epoch.item()/batchCounter)\n",
    "    D_losses.append(loss_d_epoch.item()/batchCounter)\n",
    "    D_fake_losses.append(loss_d_fake_epoch.item()/batchCounter)\n",
    "    D_real_losses.append(loss_d_real_epoch.item()/batchCounter)\n",
    "\n",
    "    Real_data_realprob.append(real_prob_epoch/batchCounter)\n",
    "    Generated_data_realprob.append(gen_prob_epoch/batchCounter)\n",
    "    Correct_gen_prob.append(correct_gen_prob_epoch/batchCounter)\n",
    "    with torch.no_grad():\n",
    "        fake = Gnet(fixed_noise,fixed_labels).detach().cpu()\n",
    "    img_list.append(vutils.make_grid(fake,nrow=10, padding=2, normalize=True))\n",
    "\n",
    "\n",
    "    #print(i/(len(data_loader.dataset)/batch_size))\n",
    "    #  print(\"loss_d_fake \", loss_d_fake.item())\n",
    "    #  print(\"loss_d_real \", loss_d_real.item())\n",
    "    print(\"loss_d_total\", D_losses[-1] , \"loss_d_fake\", D_fake_losses[-1],\"loss_d_real\",D_real_losses[-1],\"loss_g_total\", G_losses[-1])\n",
    "    # print(\"loss_d_fake\", D_fake_losses[-1])\n",
    "    # print(\"loss_d_real\",D_real_losses[-1])\n",
    "    # print(\"loss_g_total\", G_losses[-1])\n",
    "    print(\"Generator accuracies: \", Generated_data_realprob[-1])\n",
    "    print(\"Correct generator accuracies: \", Correct_gen_prob[-1])\n",
    "    print(\"Real Data Accuracy: \", Real_data_realprob[-1])\n",
    "    print(\"Norm of Gradient for G\", grad_g/batchCounter, \"Norm of Gradient for D\", grad_d/batchCounter)\n",
    "    # print(\"Norm of Gradient for D\", grad_d/batchCounter)\n",
    "    print(\"Time is \" + str(time.time() - start))"
   ]
  },
  {
   "cell_type": "code",
   "execution_count": 15,
   "metadata": {
    "colab": {
     "base_uri": "https://localhost:8080/",
     "height": 1000
    },
    "execution": {
     "iopub.execute_input": "2022-12-18T17:43:47.028304Z",
     "iopub.status.busy": "2022-12-18T17:43:47.027651Z",
     "iopub.status.idle": "2022-12-18T17:43:47.465008Z",
     "shell.execute_reply": "2022-12-18T17:43:47.464388Z",
     "shell.execute_reply.started": "2022-12-18T17:43:47.028280Z"
    },
    "executionInfo": {
     "elapsed": 933,
     "status": "ok",
     "timestamp": 1670805626329,
     "user": {
      "displayName": "Aidan Nuzum-Clark",
      "userId": "16447603376467502760"
     },
     "user_tz": 300
    },
    "id": "aJ54-bKQsuau",
    "outputId": "2bb3e8b9-4c26-4025-e53d-1fc89b306735"
   },
   "outputs": [
    {
     "data": {
      "image/png": "[encoded data removed]",
      "text/plain": [
       "<Figure size 432x288 with 1 Axes>"
      ]
     },
     "metadata": {
      "needs_background": "light"
     },
     "output_type": "display_data"
    },
    {
     "data": {
      "image/png": "[encoded data removed]",
      "text/plain": [
       "<Figure size 432x288 with 1 Axes>"
      ]
     },
     "metadata": {
      "needs_background": "light"
     },
     "output_type": "display_data"
    },
    {
     "data": {
      "image/png": "[encoded data removed]",
      "text/plain": [
       "<Figure size 432x288 with 1 Axes>"
      ]
     },
     "metadata": {
      "needs_background": "light"
     },
     "output_type": "display_data"
    },
    {
     "data": {
      "image/png": "[encoded data removed]",
      "text/plain": [
       "<Figure size 432x288 with 1 Axes>"
      ]
     },
     "metadata": {
      "needs_background": "light"
     },
     "output_type": "display_data"
    },
    {
     "data": {
      "image/png": "[encoded data removed]",
      "text/plain": [
       "<Figure size 432x288 with 1 Axes>"
      ]
     },
     "metadata": {
      "needs_background": "light"
     },
     "output_type": "display_data"
    }
   ],
   "source": [
    "plt.plot(np.arange(len(G_losses)),G_losses,color = 'blue',label = \"G_loss\")\n",
    "plt.plot(np.arange(len(D_losses)),D_losses,color = 'red',label = \"D_loss\")\n",
    "plt.title(\"Discriminator and Generator losses\")\n",
    "plt.legend()\n",
    "plt.show()\n",
    "\n",
    "plt.plot(np.arange(len(D_losses)),D_losses,color = 'red',label = \"D_loss_total\")\n",
    "plt.plot(np.arange(len(D_real_losses)),D_real_losses,color = 'blue',label = \"D_real_loss\")\n",
    "plt.plot(np.arange(len(D_fake_losses)),D_fake_losses,color = 'green',label = \"D_fake_loss\")\n",
    "plt.title(\"Discriminator real and fake losses\")\n",
    "plt.legend()\n",
    "plt.show()\n",
    "\n",
    "plt.plot(np.arange(len(Real_data_realprob)),Real_data_realprob)\n",
    "plt.title(\"Prob Discriminator assigns to real data\")\n",
    "plt.ylim(0,1)\n",
    "plt.show()\n",
    "\n",
    "data = np.array(Generated_data_realprob)\n",
    "plt.plot(np.arange(data.shape[0]),data)\n",
    "plt.title(\"Prob of being real assigned to each generator\")\n",
    "plt.ylim(0,1)\n",
    "plt.show()\n",
    "\n",
    "data = np.array(Correct_gen_prob)\n",
    "plt.plot(np.arange(data.shape[0]),data)\n",
    "plt.title(\"Prob of recognising the right generator\")\n",
    "plt.ylim(0,1)\n",
    "plt.show()"
   ]
  },
  {
   "cell_type": "code",
   "execution_count": 18,
   "metadata": {
    "colab": {
     "base_uri": "https://localhost:8080/",
     "height": 764
    },
    "execution": {
     "iopub.execute_input": "2022-12-18T17:44:23.740299Z",
     "iopub.status.busy": "2022-12-18T17:44:23.739993Z",
     "iopub.status.idle": "2022-12-18T17:44:23.830742Z",
     "shell.execute_reply": "2022-12-18T17:44:23.830060Z",
     "shell.execute_reply.started": "2022-12-18T17:44:23.740276Z"
    },
    "executionInfo": {
     "elapsed": 5974,
     "status": "ok",
     "timestamp": 1670805831679,
     "user": {
      "displayName": "Aidan Nuzum-Clark",
      "userId": "16447603376467502760"
     },
     "user_tz": 300
    },
    "id": "Fvo817x0QbzM",
    "outputId": "ee36d83b-3931-451b-8ab7-1f37e71632d2"
   },
   "outputs": [
    {
     "name": "stdout",
     "output_type": "stream",
     "text": [
      "30\n"
     ]
    },
    {
     "data": {
      "text/plain": [
       "<matplotlib.image.AxesImage at 0x7f8de1755850>"
      ]
     },
     "execution_count": 18,
     "metadata": {},
     "output_type": "execute_result"
    },
    {
     "data": {
      "image/png": "[encoded data removed]",
      "text/plain": [
       "<Figure size 432x288 with 1 Axes>"
      ]
     },
     "metadata": {
      "needs_background": "light"
     },
     "output_type": "display_data"
    }
   ],
   "source": [
    "# fig = plt.figure(figsize=(10,10))\n",
    "# plt.axis(\"off\")\n",
    "# ims = [[plt.imshow(np.transpose(i,(1,2,0)), animated=True)] for i in img_list]\n",
    "# ani = animation.ArtistAnimation(fig, ims, interval=1000, repeat_delay=1000, blit=True)\n",
    "# HTML(ani.to_jshtml())\n",
    "\n",
    "print(len(img_list))\n",
    "e_index = 15\n",
    "im = np.transpose(img_list[e_index],(1,2,0))\n",
    "plt.imshow(im)\n",
    "# plt.imsave('/notebooks/images/cGAN_'+str(e_index)+'_epoch.png',np.array(im))\n"
   ]
  },
  {
   "cell_type": "code",
   "execution_count": 53,
   "metadata": {
    "execution": {
     "iopub.execute_input": "2022-12-18T17:06:40.978991Z",
     "iopub.status.busy": "2022-12-18T17:06:40.978304Z",
     "iopub.status.idle": "2022-12-18T17:06:41.008166Z",
     "shell.execute_reply": "2022-12-18T17:06:41.007611Z",
     "shell.execute_reply.started": "2022-12-18T17:06:40.978964Z"
    }
   },
   "outputs": [
    {
     "data": {
      "text/plain": [
       "['cgan.ipynb',\n",
       " 'very_promising-3-Copy1.ipynb',\n",
       " 'cGAN_15_epoch.png',\n",
       " 'images',\n",
       " 'normal_gan.ipynb',\n",
       " 'cGAN_25_epoch.png',\n",
       " 'very_promising-3.ipynb',\n",
       " '.ipynb_checkpoints',\n",
       " 'data']"
      ]
     },
     "execution_count": 53,
     "metadata": {},
     "output_type": "execute_result"
    }
   ],
   "source": [
    "import os\n",
    "os.getcwd() \n",
    "os.listdir()"
   ]
  },
  {
   "cell_type": "code",
   "execution_count": 107,
   "metadata": {
    "colab": {
     "base_uri": "https://localhost:8080/",
     "height": 1000
    },
    "execution": {
     "iopub.execute_input": "2022-12-18T06:43:52.114852Z",
     "iopub.status.busy": "2022-12-18T06:43:52.114173Z",
     "iopub.status.idle": "2022-12-18T06:43:55.503534Z",
     "shell.execute_reply": "2022-12-18T06:43:55.502952Z",
     "shell.execute_reply.started": "2022-12-18T06:43:52.114824Z"
    },
    "executionInfo": {
     "elapsed": 3132,
     "status": "ok",
     "timestamp": 1670805703059,
     "user": {
      "displayName": "Aidan Nuzum-Clark",
      "userId": "16447603376467502760"
     },
     "user_tz": 300
    },
    "id": "0WeEWJc-DyxR",
    "outputId": "f7f641e2-8f64-4d5c-f82c-38b88dd53fa3"
   },
   "outputs": [
    {
     "name": "stdout",
     "output_type": "stream",
     "text": [
      "0\n"
     ]
    },
    {
     "data": {
      "image/png": "[encoded data removed]",
      "text/plain": [
       "<Figure size 432x288 with 1 Axes>"
      ]
     },
     "metadata": {
      "needs_background": "light"
     },
     "output_type": "display_data"
    },
    {
     "name": "stdout",
     "output_type": "stream",
     "text": [
      "0\n"
     ]
    },
    {
     "data": {
      "image/png": "[encoded data removed]",
      "text/plain": [
       "<Figure size 432x288 with 1 Axes>"
      ]
     },
     "metadata": {
      "needs_background": "light"
     },
     "output_type": "display_data"
    },
    {
     "name": "stdout",
     "output_type": "stream",
     "text": [
      "0\n"
     ]
    },
    {
     "data": {
      "image/png": "[encoded data removed]",
      "text/plain": [
       "<Figure size 432x288 with 1 Axes>"
      ]
     },
     "metadata": {
      "needs_background": "light"
     },
     "output_type": "display_data"
    },
    {
     "name": "stdout",
     "output_type": "stream",
     "text": [
      "0\n"
     ]
    },
    {
     "data": {
      "image/png": "[encoded data removed]",
      "text/plain": [
       "<Figure size 432x288 with 1 Axes>"
      ]
     },
     "metadata": {
      "needs_background": "light"
     },
     "output_type": "display_data"
    },
    {
     "name": "stdout",
     "output_type": "stream",
     "text": [
      "0\n"
     ]
    },
    {
     "data": {
      "image/png": "[encoded data removed]",
      "text/plain": [
       "<Figure size 432x288 with 1 Axes>"
      ]
     },
     "metadata": {
      "needs_background": "light"
     },
     "output_type": "display_data"
    },
    {
     "name": "stdout",
     "output_type": "stream",
     "text": [
      "1\n"
     ]
    },
    {
     "data": {
      "image/png": "[encoded data removed]",
      "text/plain": [
       "<Figure size 432x288 with 1 Axes>"
      ]
     },
     "metadata": {
      "needs_background": "light"
     },
     "output_type": "display_data"
    },
    {
     "name": "stdout",
     "output_type": "stream",
     "text": [
      "1\n"
     ]
    },
    {
     "data": {
      "image/png": "[encoded data removed]",
      "text/plain": [
       "<Figure size 432x288 with 1 Axes>"
      ]
     },
     "metadata": {
      "needs_background": "light"
     },
     "output_type": "display_data"
    },
    {
     "name": "stdout",
     "output_type": "stream",
     "text": [
      "1\n"
     ]
    },
    {
     "data": {
      "image/png": "[encoded data removed]",
      "text/plain": [
       "<Figure size 432x288 with 1 Axes>"
      ]
     },
     "metadata": {
      "needs_background": "light"
     },
     "output_type": "display_data"
    },
    {
     "name": "stdout",
     "output_type": "stream",
     "text": [
      "1\n"
     ]
    },
    {
     "data": {
      "image/png": "[encoded data removed]",
      "text/plain": [
       "<Figure size 432x288 with 1 Axes>"
      ]
     },
     "metadata": {
      "needs_background": "light"
     },
     "output_type": "display_data"
    },
    {
     "name": "stdout",
     "output_type": "stream",
     "text": [
      "1\n"
     ]
    },
    {
     "data": {
      "image/png": "[encoded data removed]",
      "text/plain": [
       "<Figure size 432x288 with 1 Axes>"
      ]
     },
     "metadata": {
      "needs_background": "light"
     },
     "output_type": "display_data"
    },
    {
     "name": "stdout",
     "output_type": "stream",
     "text": [
      "2\n"
     ]
    },
    {
     "data": {
      "image/png": "[encoded data removed]",
      "text/plain": [
       "<Figure size 432x288 with 1 Axes>"
      ]
     },
     "metadata": {
      "needs_background": "light"
     },
     "output_type": "display_data"
    },
    {
     "name": "stdout",
     "output_type": "stream",
     "text": [
      "2\n"
     ]
    },
    {
     "data": {
      "image/png": "[encoded data removed]",
      "text/plain": [
       "<Figure size 432x288 with 1 Axes>"
      ]
     },
     "metadata": {
      "needs_background": "light"
     },
     "output_type": "display_data"
    },
    {
     "name": "stdout",
     "output_type": "stream",
     "text": [
      "2\n"
     ]
    },
    {
     "data": {
      "image/png": "[encoded data removed]",
      "text/plain": [
       "<Figure size 432x288 with 1 Axes>"
      ]
     },
     "metadata": {
      "needs_background": "light"
     },
     "output_type": "display_data"
    },
    {
     "name": "stdout",
     "output_type": "stream",
     "text": [
      "2\n"
     ]
    },
    {
     "data": {
      "image/png": "[encoded data removed]",
      "text/plain": [
       "<Figure size 432x288 with 1 Axes>"
      ]
     },
     "metadata": {
      "needs_background": "light"
     },
     "output_type": "display_data"
    },
    {
     "name": "stdout",
     "output_type": "stream",
     "text": [
      "2\n"
     ]
    },
    {
     "data": {
      "image/png": "[encoded data removed]",
      "text/plain": [
       "<Figure size 432x288 with 1 Axes>"
      ]
     },
     "metadata": {
      "needs_background": "light"
     },
     "output_type": "display_data"
    },
    {
     "name": "stdout",
     "output_type": "stream",
     "text": [
      "3\n"
     ]
    },
    {
     "data": {
      "image/png": "[encoded data removed]",
      "text/plain": [
       "<Figure size 432x288 with 1 Axes>"
      ]
     },
     "metadata": {
      "needs_background": "light"
     },
     "output_type": "display_data"
    },
    {
     "name": "stdout",
     "output_type": "stream",
     "text": [
      "3\n"
     ]
    },
    {
     "data": {
      "image/png": "[encoded data removed]",
      "text/plain": [
       "<Figure size 432x288 with 1 Axes>"
      ]
     },
     "metadata": {
      "needs_background": "light"
     },
     "output_type": "display_data"
    },
    {
     "name": "stdout",
     "output_type": "stream",
     "text": [
      "3\n"
     ]
    },
    {
     "data": {
      "image/png": "[encoded data removed]",
      "text/plain": [
       "<Figure size 432x288 with 1 Axes>"
      ]
     },
     "metadata": {
      "needs_background": "light"
     },
     "output_type": "display_data"
    },
    {
     "name": "stdout",
     "output_type": "stream",
     "text": [
      "3\n"
     ]
    },
    {
     "data": {
      "image/png": "[encoded data removed]",
      "text/plain": [
       "<Figure size 432x288 with 1 Axes>"
      ]
     },
     "metadata": {
      "needs_background": "light"
     },
     "output_type": "display_data"
    },
    {
     "name": "stdout",
     "output_type": "stream",
     "text": [
      "3\n"
     ]
    },
    {
     "data": {
      "image/png": "[encoded data removed]",
      "text/plain": [
       "<Figure size 432x288 with 1 Axes>"
      ]
     },
     "metadata": {
      "needs_background": "light"
     },
     "output_type": "display_data"
    },
    {
     "name": "stdout",
     "output_type": "stream",
     "text": [
      "4\n"
     ]
    },
    {
     "data": {
      "image/png": "[encoded data removed]",
      "text/plain": [
       "<Figure size 432x288 with 1 Axes>"
      ]
     },
     "metadata": {
      "needs_background": "light"
     },
     "output_type": "display_data"
    },
    {
     "name": "stdout",
     "output_type": "stream",
     "text": [
      "4\n"
     ]
    },
    {
     "data": {
      "image/png": "[encoded data removed]",
      "text/plain": [
       "<Figure size 432x288 with 1 Axes>"
      ]
     },
     "metadata": {
      "needs_background": "light"
     },
     "output_type": "display_data"
    },
    {
     "name": "stdout",
     "output_type": "stream",
     "text": [
      "4\n"
     ]
    },
    {
     "data": {
      "image/png": "[encoded data removed]",
      "text/plain": [
       "<Figure size 432x288 with 1 Axes>"
      ]
     },
     "metadata": {
      "needs_background": "light"
     },
     "output_type": "display_data"
    },
    {
     "name": "stdout",
     "output_type": "stream",
     "text": [
      "4\n"
     ]
    },
    {
     "data": {
      "image/png": "[encoded data removed]",
      "text/plain": [
       "<Figure size 432x288 with 1 Axes>"
      ]
     },
     "metadata": {
      "needs_background": "light"
     },
     "output_type": "display_data"
    },
    {
     "name": "stdout",
     "output_type": "stream",
     "text": [
      "4\n"
     ]
    },
    {
     "data": {
      "image/png": "[encoded data removed]",
      "text/plain": [
       "<Figure size 432x288 with 1 Axes>"
      ]
     },
     "metadata": {
      "needs_background": "light"
     },
     "output_type": "display_data"
    },
    {
     "name": "stdout",
     "output_type": "stream",
     "text": [
      "5\n"
     ]
    },
    {
     "data": {
      "image/png": "[encoded data removed]",
      "text/plain": [
       "<Figure size 432x288 with 1 Axes>"
      ]
     },
     "metadata": {
      "needs_background": "light"
     },
     "output_type": "display_data"
    },
    {
     "name": "stdout",
     "output_type": "stream",
     "text": [
      "5\n"
     ]
    },
    {
     "data": {
      "image/png": "[encoded data removed]",
      "text/plain": [
       "<Figure size 432x288 with 1 Axes>"
      ]
     },
     "metadata": {
      "needs_background": "light"
     },
     "output_type": "display_data"
    },
    {
     "name": "stdout",
     "output_type": "stream",
     "text": [
      "5\n"
     ]
    },
    {
     "data": {
      "image/png": "[encoded data removed]",
      "text/plain": [
       "<Figure size 432x288 with 1 Axes>"
      ]
     },
     "metadata": {
      "needs_background": "light"
     },
     "output_type": "display_data"
    },
    {
     "name": "stdout",
     "output_type": "stream",
     "text": [
      "5\n"
     ]
    },
    {
     "data": {
      "image/png": "[encoded data removed]",
      "text/plain": [
       "<Figure size 432x288 with 1 Axes>"
      ]
     },
     "metadata": {
      "needs_background": "light"
     },
     "output_type": "display_data"
    },
    {
     "name": "stdout",
     "output_type": "stream",
     "text": [
      "5\n"
     ]
    },
    {
     "data": {
      "image/png": "[encoded data removed]",
      "text/plain": [
       "<Figure size 432x288 with 1 Axes>"
      ]
     },
     "metadata": {
      "needs_background": "light"
     },
     "output_type": "display_data"
    },
    {
     "name": "stdout",
     "output_type": "stream",
     "text": [
      "6\n"
     ]
    },
    {
     "data": {
      "image/png": "[encoded data removed]",
      "text/plain": [
       "<Figure size 432x288 with 1 Axes>"
      ]
     },
     "metadata": {
      "needs_background": "light"
     },
     "output_type": "display_data"
    },
    {
     "name": "stdout",
     "output_type": "stream",
     "text": [
      "6\n"
     ]
    },
    {
     "data": {
      "image/png": "[encoded data removed]",
      "text/plain": [
       "<Figure size 432x288 with 1 Axes>"
      ]
     },
     "metadata": {
      "needs_background": "light"
     },
     "output_type": "display_data"
    },
    {
     "name": "stdout",
     "output_type": "stream",
     "text": [
      "6\n"
     ]
    },
    {
     "data": {
      "image/png": "[encoded data removed]",
      "text/plain": [
       "<Figure size 432x288 with 1 Axes>"
      ]
     },
     "metadata": {
      "needs_background": "light"
     },
     "output_type": "display_data"
    },
    {
     "name": "stdout",
     "output_type": "stream",
     "text": [
      "6\n"
     ]
    },
    {
     "data": {
      "image/png": "[encoded data removed]",
      "text/plain": [
       "<Figure size 432x288 with 1 Axes>"
      ]
     },
     "metadata": {
      "needs_background": "light"
     },
     "output_type": "display_data"
    },
    {
     "name": "stdout",
     "output_type": "stream",
     "text": [
      "6\n"
     ]
    },
    {
     "data": {
      "image/png": "[encoded data removed]",
      "text/plain": [
       "<Figure size 432x288 with 1 Axes>"
      ]
     },
     "metadata": {
      "needs_background": "light"
     },
     "output_type": "display_data"
    },
    {
     "name": "stdout",
     "output_type": "stream",
     "text": [
      "7\n"
     ]
    },
    {
     "data": {
      "image/png": "[encoded data removed]",
      "text/plain": [
       "<Figure size 432x288 with 1 Axes>"
      ]
     },
     "metadata": {
      "needs_background": "light"
     },
     "output_type": "display_data"
    },
    {
     "name": "stdout",
     "output_type": "stream",
     "text": [
      "7\n"
     ]
    },
    {
     "data": {
      "image/png": "[encoded data removed]",
      "text/plain": [
       "<Figure size 432x288 with 1 Axes>"
      ]
     },
     "metadata": {
      "needs_background": "light"
     },
     "output_type": "display_data"
    },
    {
     "name": "stdout",
     "output_type": "stream",
     "text": [
      "7\n"
     ]
    },
    {
     "data": {
      "image/png": "[encoded data removed]",
      "text/plain": [
       "<Figure size 432x288 with 1 Axes>"
      ]
     },
     "metadata": {
      "needs_background": "light"
     },
     "output_type": "display_data"
    },
    {
     "name": "stdout",
     "output_type": "stream",
     "text": [
      "7\n"
     ]
    },
    {
     "data": {
      "image/png": "[encoded data removed]",
      "text/plain": [
       "<Figure size 432x288 with 1 Axes>"
      ]
     },
     "metadata": {
      "needs_background": "light"
     },
     "output_type": "display_data"
    },
    {
     "name": "stdout",
     "output_type": "stream",
     "text": [
      "7\n"
     ]
    },
    {
     "data": {
      "image/png": "[encoded data removed]",
      "text/plain": [
       "<Figure size 432x288 with 1 Axes>"
      ]
     },
     "metadata": {
      "needs_background": "light"
     },
     "output_type": "display_data"
    },
    {
     "name": "stdout",
     "output_type": "stream",
     "text": [
      "8\n"
     ]
    },
    {
     "data": {
      "image/png": "[encoded data removed]",
      "text/plain": [
       "<Figure size 432x288 with 1 Axes>"
      ]
     },
     "metadata": {
      "needs_background": "light"
     },
     "output_type": "display_data"
    },
    {
     "name": "stdout",
     "output_type": "stream",
     "text": [
      "8\n"
     ]
    },
    {
     "data": {
      "image/png": "[encoded data removed]",
      "text/plain": [
       "<Figure size 432x288 with 1 Axes>"
      ]
     },
     "metadata": {
      "needs_background": "light"
     },
     "output_type": "display_data"
    },
    {
     "name": "stdout",
     "output_type": "stream",
     "text": [
      "8\n"
     ]
    },
    {
     "data": {
      "image/png": "[encoded data removed]",
      "text/plain": [
       "<Figure size 432x288 with 1 Axes>"
      ]
     },
     "metadata": {
      "needs_background": "light"
     },
     "output_type": "display_data"
    },
    {
     "name": "stdout",
     "output_type": "stream",
     "text": [
      "8\n"
     ]
    },
    {
     "data": {
      "image/png": "[encoded data removed]",
      "text/plain": [
       "<Figure size 432x288 with 1 Axes>"
      ]
     },
     "metadata": {
      "needs_background": "light"
     },
     "output_type": "display_data"
    },
    {
     "name": "stdout",
     "output_type": "stream",
     "text": [
      "8\n"
     ]
    },
    {
     "data": {
      "image/png": "[encoded data removed]",
      "text/plain": [
       "<Figure size 432x288 with 1 Axes>"
      ]
     },
     "metadata": {
      "needs_background": "light"
     },
     "output_type": "display_data"
    },
    {
     "name": "stdout",
     "output_type": "stream",
     "text": [
      "9\n"
     ]
    },
    {
     "data": {
      "image/png": "[encoded data removed]",
      "text/plain": [
       "<Figure size 432x288 with 1 Axes>"
      ]
     },
     "metadata": {
      "needs_background": "light"
     },
     "output_type": "display_data"
    },
    {
     "name": "stdout",
     "output_type": "stream",
     "text": [
      "9\n"
     ]
    },
    {
     "data": {
      "image/png": "[encoded data removed]",
      "text/plain": [
       "<Figure size 432x288 with 1 Axes>"
      ]
     },
     "metadata": {
      "needs_background": "light"
     },
     "output_type": "display_data"
    },
    {
     "name": "stdout",
     "output_type": "stream",
     "text": [
      "9\n"
     ]
    },
    {
     "data": {
      "image/png": "[encoded data removed]",
      "text/plain": [
       "<Figure size 432x288 with 1 Axes>"
      ]
     },
     "metadata": {
      "needs_background": "light"
     },
     "output_type": "display_data"
    },
    {
     "name": "stdout",
     "output_type": "stream",
     "text": [
      "9\n"
     ]
    },
    {
     "data": {
      "image/png": "[encoded data removed]",
      "text/plain": [
       "<Figure size 432x288 with 1 Axes>"
      ]
     },
     "metadata": {
      "needs_background": "light"
     },
     "output_type": "display_data"
    },
    {
     "name": "stdout",
     "output_type": "stream",
     "text": [
      "9\n"
     ]
    },
    {
     "data": {
      "image/png": "[encoded data removed]",
      "text/plain": [
       "<Figure size 432x288 with 1 Axes>"
      ]
     },
     "metadata": {
      "needs_background": "light"
     },
     "output_type": "display_data"
    }
   ],
   "source": [
    "num_samples = 5\n",
    "for i in range(0,numofGenerators):\n",
    "  # noise = (torch.rand((100,1,5,5))*2)-1\n",
    "    noise = torch.randn((num_samples,100,1,1))\n",
    "    noise = noise.to(device)\n",
    "    labels = torch.full((num_samples,1),i).to(device)\n",
    "    output = Gnet(noise,labels)\n",
    "    for j in range(num_samples):\n",
    "        print(i)\n",
    "        plt.imshow(output[j,0,:,:].cpu().detach().numpy(),cmap='gray')\n",
    "        plt.show()"
   ]
  },
  {
   "cell_type": "code",
   "execution_count": 67,
   "metadata": {
    "execution": {
     "iopub.execute_input": "2022-12-15T08:10:31.427824Z",
     "iopub.status.busy": "2022-12-15T08:10:31.427609Z",
     "iopub.status.idle": "2022-12-15T08:10:31.934850Z",
     "shell.execute_reply": "2022-12-15T08:10:31.934130Z",
     "shell.execute_reply.started": "2022-12-15T08:10:31.427804Z"
    },
    "executionInfo": {
     "elapsed": 122,
     "status": "ok",
     "timestamp": 1670752809334,
     "user": {
      "displayName": "Aidan Nuzum-Clark",
      "userId": "16447603376467502760"
     },
     "user_tz": 300
    },
    "id": "Wg4QSYKTDyz6"
   },
   "outputs": [],
   "source": [
    "torch.save(Gnet.state_dict(), 'gen.pth')\n",
    "torch.save(Dnet.state_dict(), 'disc.pth')"
   ]
  },
  {
   "cell_type": "code",
   "execution_count": 68,
   "metadata": {
    "execution": {
     "iopub.execute_input": "2022-12-15T08:10:31.935939Z",
     "iopub.status.busy": "2022-12-15T08:10:31.935708Z",
     "iopub.status.idle": "2022-12-15T08:10:31.944031Z",
     "shell.execute_reply": "2022-12-15T08:10:31.943153Z",
     "shell.execute_reply.started": "2022-12-15T08:10:31.935920Z"
    }
   },
   "outputs": [
    {
     "name": "stdout",
     "output_type": "stream",
     "text": [
      "[[ 1.16475456e+02 -3.48431855e-01 -3.22419517e-02  1.23814249e+01\n",
      "   1.15968084e+01  1.60329056e+01  1.73864956e+01]\n",
      " [-3.48431855e-01  1.34803772e+02  2.05628414e+01  9.55982780e+00\n",
      "   1.15348911e+01  1.57205534e+01  8.03722191e+00]\n",
      " [-3.22419517e-02  2.05628414e+01  1.57475937e+02  3.87201195e+01\n",
      "   5.10224953e+01  1.94498211e-01 -5.72743082e+00]\n",
      " [ 1.23814249e+01  9.55982780e+00  3.87201195e+01  1.28889725e+02\n",
      "   1.46811075e+01  1.26654015e+01 -7.62191010e+00]\n",
      " [ 1.15968084e+01  1.15348911e+01  5.10224953e+01  1.46811075e+01\n",
      "   1.55970810e+02  1.51099520e+01 -5.43145990e+00]\n",
      " [ 1.60329056e+01  1.57205534e+01  1.94498211e-01  1.26654015e+01\n",
      "   1.51099520e+01  1.09293907e+02 -1.65723395e+00]\n",
      " [ 1.73864956e+01  8.03722191e+00 -5.72743082e+00 -7.62191010e+00\n",
      "  -5.43145990e+00 -1.65723395e+00  1.13947845e+02]]\n"
     ]
    }
   ],
   "source": [
    "a = Gnet.embedding.weight.cpu().detach().numpy()\n",
    "cross = a@a.T\n",
    "print(cross)\n",
    "\n",
    "\n",
    "\n",
    "\n",
    "\n",
    "# print(a.shape)\n",
    "# for i in range(a.shape[0]):\n",
    "#     embedding = a[i,:].cpu().detach().numpy()\n",
    "#     embedding = embedding.reshape(7,7)\n",
    "#     plt.imshow(embedding,cmap='gray')\n",
    "#     plt.show()\n",
    "\n",
    "\n",
    "    \n",
    "    \n",
    "\n",
    "\n",
    "\n",
    "\n",
    "\n",
    "\n",
    "\n",
    "\n",
    "\n",
    "\n",
    "\n",
    "\n"
   ]
  }
 ],
 "metadata": {
  "accelerator": "GPU",
  "colab": {
   "provenance": [
    {
     "file_id": "1qvd_ZoMZx2Seshjc1gPe3eevaJA5LXJU",
     "timestamp": 1670741230318
    },
    {
     "file_id": "107qAhzknzLu1bBrSKyJONwMkNyGfeM0j",
     "timestamp": 1670541444211
    }
   ]
  },
  "gpuClass": "standard",
  "kernelspec": {
   "display_name": "Python 3 (ipykernel)",
   "language": "python",
   "name": "python3"
  },
  "language_info": {
   "codemirror_mode": {
    "name": "ipython",
    "version": 3
   },
   "file_extension": ".py",
   "mimetype": "text/x-python",
   "name": "python",
   "nbconvert_exporter": "python",
   "pygments_lexer": "ipython3",
   "version": "3.9.13"
  }
 },
 "nbformat": 4,
 "nbformat_minor": 4
}
